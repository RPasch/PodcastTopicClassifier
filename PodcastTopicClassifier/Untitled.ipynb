{
 "cells": [
  {
   "cell_type": "code",
   "execution_count": 6,
   "metadata": {},
   "outputs": [],
   "source": [
    "import pandas as pd\n",
    "import numpy as np\n",
    "import seaborn as sns\n",
    "import matplotlib as plt\n",
    "import nltk\n",
    "import apiai"
   ]
  },
  {
   "cell_type": "code",
   "execution_count": 3,
   "metadata": {},
   "outputs": [
    {
     "data": {
      "text/plain": [
       "\u001b[0;31mType:\u001b[0m        module\n",
       "\u001b[0;31mString form:\u001b[0m <module 'nltk' from '/home/rabbo/anaconda3/lib/python3.7/site-packages/nltk/__init__.py'>\n",
       "\u001b[0;31mFile:\u001b[0m        ~/anaconda3/lib/python3.7/site-packages/nltk/__init__.py\n",
       "\u001b[0;31mDocstring:\u001b[0m  \n",
       "The Natural Language Toolkit (NLTK) is an open source Python library\n",
       "for Natural Language Processing.  A free online book is available.\n",
       "(If you use the library for academic research, please cite the book.)\n",
       "\n",
       "Steven Bird, Ewan Klein, and Edward Loper (2009).\n",
       "Natural Language Processing with Python.  O'Reilly Media Inc.\n",
       "http://nltk.org/book\n",
       "\n",
       "@version: 3.4\n"
      ]
     },
     "metadata": {},
     "output_type": "display_data"
    }
   ],
   "source": [
    "nltk?"
   ]
  },
  {
   "cell_type": "code",
   "execution_count": 7,
   "metadata": {},
   "outputs": [
    {
     "data": {
      "text/plain": [
       "\u001b[0;31mType:\u001b[0m        module\n",
       "\u001b[0;31mString form:\u001b[0m <module 'apiai' from '/home/rabbo/anaconda3/lib/python3.7/site-packages/apiai/__init__.py'>\n",
       "\u001b[0;31mFile:\u001b[0m        ~/anaconda3/lib/python3.7/site-packages/apiai/__init__.py\n",
       "\u001b[0;31mDocstring:\u001b[0m  \n",
       "apiai\n",
       "~~~~~~~~~~~~~~~~\n",
       "This module provides a ApiAI classes to manage requests.\n"
      ]
     },
     "metadata": {},
     "output_type": "display_data"
    }
   ],
   "source": [
    "apiai?"
   ]
  },
  {
   "cell_type": "code",
   "execution_count": null,
   "metadata": {},
   "outputs": [],
   "source": []
  }
 ],
 "metadata": {
  "kernelspec": {
   "display_name": "Python 3",
   "language": "python",
   "name": "python3"
  },
  "language_info": {
   "codemirror_mode": {
    "name": "ipython",
    "version": 3
   },
   "file_extension": ".py",
   "mimetype": "text/x-python",
   "name": "python",
   "nbconvert_exporter": "python",
   "pygments_lexer": "ipython3",
   "version": "3.7.3"
  }
 },
 "nbformat": 4,
 "nbformat_minor": 2
}
